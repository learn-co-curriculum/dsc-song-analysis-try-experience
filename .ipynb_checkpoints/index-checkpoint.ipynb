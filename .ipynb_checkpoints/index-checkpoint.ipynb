{
 "cells": [
  {
   "cell_type": "code",
   "execution_count": 1,
   "metadata": {},
   "outputs": [],
   "source": [
    "from ipywidgets import interact\n",
    "with open('data.txt', 'r') as text:\n",
    "    lyrics = text.read()"
   ]
  },
  {
   "cell_type": "code",
   "execution_count": 2,
   "metadata": {},
   "outputs": [
    {
     "data": {
      "text/plain": [
       "['Went', 'Saw', 'Ann', 'got', 'Take', 'on', 'Id', 'tried', 'A', 'romance']"
      ]
     },
     "execution_count": 2,
     "metadata": {},
     "output_type": "execute_result"
    }
   ],
   "source": [
    "unnecessary = [(',',''),('...More', ''), ('Lyrics...', ''), ('  ', ' '), (\"'\", '')]\n",
    "for old, new in unnecessary:\n",
    "    lyrics = lyrics.replace(old, new)\n",
    "    \n",
    "lyrics_list = lyrics.split(' ')\n",
    "unique = list(set(lyrics_list))\n",
    "unique[:10]"
   ]
  },
  {
   "cell_type": "code",
   "execution_count": 3,
   "metadata": {},
   "outputs": [],
   "source": [
    "def word_count(word):\n",
    "    count = lyrics_list.count(word)\n",
    "    if count == 0:\n",
    "        return f\"Your word, {word}, doesn't appear in the lyrics\"\n",
    "    elif count == 1:\n",
    "        return f'Your word, {word}, appears in the lyrics just once'\n",
    "    else:\n",
    "        return f'Your word, {word}, appears in the lyrics {count} times'"
   ]
  },
  {
   "cell_type": "code",
   "execution_count": 4,
   "metadata": {},
   "outputs": [
    {
     "data": {
      "application/vnd.jupyter.widget-view+json": {
       "model_id": "8c68e2b2914b4b5aa91bdb2fd8a50e38",
       "version_major": 2,
       "version_minor": 0
      },
      "text/plain": [
       "interactive(children=(Dropdown(description='word', options=('Went', 'Saw', 'Ann', 'got', 'Take', 'on', 'Id', '…"
      ]
     },
     "metadata": {},
     "output_type": "display_data"
    }
   ],
   "source": [
    "interact(word_count, word=unique);"
   ]
  },
  {
   "cell_type": "code",
   "execution_count": 5,
   "metadata": {},
   "outputs": [
    {
     "name": "stdout",
     "output_type": "stream",
     "text": [
      "['a', 'ba', 'ba', 'ba', 'ba', 'barbara', 'ann', 'ba', 'ba', 'ba']\n",
      "['mary', 'sue', 'got', 'ann\\n', 'on', 'tried', 'romance', 'my', 'do', 'lou']\n"
     ]
    }
   ],
   "source": [
    "lyrics_list_lower = []\n",
    "for lyric in lyrics_list:\n",
    "    lyrics_list_lower.append(lyric.lower())\n",
    "print(lyrics_list_lower[:10])\n",
    "unique_lower = list(set(lyrics_list_lower))\n",
    "print(unique_lower[:10])"
   ]
  },
  {
   "cell_type": "code",
   "execution_count": 6,
   "metadata": {},
   "outputs": [],
   "source": [
    "def word_count_lower(word):\n",
    "    count = lyrics_list_lower.count(word)\n",
    "    if count == 0:\n",
    "        return f', and it does not appear in the cleaned lyrics.';\n",
    "    elif count == 1:\n",
    "        return f', and it appears in the cleaned lyrics just once.';\n",
    "    else:\n",
    "        return f', and it appears in the cleaned lyrics {count} times.';\n",
    "def count_compare(word):\n",
    "    return f\"{word_count(word)}{word_count_lower(word)}, but,{word_count(word.capitalize())}{word_count_lower(word.capitalize())}\"   \n",
    "    "
   ]
  },
  {
   "cell_type": "code",
   "execution_count": 7,
   "metadata": {},
   "outputs": [
    {
     "data": {
      "application/vnd.jupyter.widget-view+json": {
       "model_id": "56900c3358c445f89fba418c854ab34b",
       "version_major": 2,
       "version_minor": 0
      },
      "text/plain": [
       "interactive(children=(Dropdown(description='word', options=('mary', 'sue', 'got', 'ann\\n', 'on', 'tried', 'rom…"
      ]
     },
     "metadata": {},
     "output_type": "display_data"
    }
   ],
   "source": [
    "interact(count_compare, word=(unique_lower));"
   ]
  }
 ],
 "metadata": {
  "kernelspec": {
   "display_name": "Python 3",
   "language": "python",
   "name": "python3"
  },
  "language_info": {
   "codemirror_mode": {
    "name": "ipython",
    "version": 3
   },
   "file_extension": ".py",
   "mimetype": "text/x-python",
   "name": "python",
   "nbconvert_exporter": "python",
   "pygments_lexer": "ipython3",
   "version": "3.6.9"
  }
 },
 "nbformat": 4,
 "nbformat_minor": 4
}
