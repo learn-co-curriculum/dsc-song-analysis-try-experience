{
 "cells": [
  {
   "cell_type": "code",
   "execution_count": 4,
   "metadata": {},
   "outputs": [],
   "source": [
    "from ipywidgets import interact"
   ]
  },
  {
   "cell_type": "code",
   "execution_count": 5,
   "metadata": {},
   "outputs": [
    {
     "name": "stdout",
     "output_type": "stream",
     "text": [
      "A Ba Ba Ba Ba Barbara Ann Ba Ba Ba Ba Barbara Ann Barbara Ann Take my hand Barbara Ann You got me rockin and a rollin Rockin and a reelin Barbara Ann Ba-Ba-Ba-Barbara Ann Went to a dance looking for romance Saw Barbara Ann so I thought Id take a chance on Barbara Ann Barbara Ann Barbara Ann Take my hand Barbara Ann Barbara Ann Take my hand You got me rockin and a rollin Rockin and a reelin Barbara Ann Ba Ba Ba Ba Barbara Ann Ba Ba Ba Barbara Ann Ba Ba Ba Barbara Ann Barbara Ann take my hand Barbara ann you got me rockin and a rollin rockin and a reelin Barbara Ann Ba-Ba-Ba-Barbara Ann Tried Peggy Sue tried Peggy Lou tried Mary Lou but I knew she wouldnt do Barbara Ann Barbara Ann take my hand Barbara Ann take my hand you got me rockin and a rollin Rockin and a reelin Barbara Ann Ba Ba Ba Barbara Ann Ba Ba Ba Barbara Ann Ba Ba Ba Barbara Ann Barbara Ann take my hand Barbara Ann You got me rockin and a rollin Rockin and a reelin Barbara Ann Ba Ba Ba Barbara Ann Barbara Ann Barbara Ann Barbara Ann Barbara Ann Barbara Ann Barbara Ann Barbara Ann\n"
     ]
    },
    {
     "data": {
      "text/plain": [
       "{'A',\n",
       " 'Ann',\n",
       " 'Ba',\n",
       " 'Ba-Ba-Ba-Barbara',\n",
       " 'Barbara',\n",
       " 'I',\n",
       " 'Id',\n",
       " 'Lou',\n",
       " 'Mary',\n",
       " 'Peggy',\n",
       " 'Rockin',\n",
       " 'Saw',\n",
       " 'Sue',\n",
       " 'Take',\n",
       " 'Tried',\n",
       " 'Went',\n",
       " 'You',\n",
       " 'a',\n",
       " 'and',\n",
       " 'ann',\n",
       " 'but',\n",
       " 'chance',\n",
       " 'dance',\n",
       " 'do',\n",
       " 'for',\n",
       " 'got',\n",
       " 'hand',\n",
       " 'knew',\n",
       " 'looking',\n",
       " 'me',\n",
       " 'my',\n",
       " 'on',\n",
       " 'reelin',\n",
       " 'rockin',\n",
       " 'rollin',\n",
       " 'romance',\n",
       " 'she',\n",
       " 'so',\n",
       " 'take',\n",
       " 'thought',\n",
       " 'to',\n",
       " 'tried',\n",
       " 'wouldnt',\n",
       " 'you'}"
      ]
     },
     "execution_count": 5,
     "metadata": {},
     "output_type": "execute_result"
    }
   ],
   "source": [
    "lyrics = \"A Ba Ba Ba Ba Barbara Ann Ba Ba Ba Ba Barbara Ann Barbara Ann Take my hand Barbara Ann You got me rockin' and a rollin' Rockin' and a reelin' Barbara Ann Ba-Ba-Ba-Barbara Ann Went to a dance, looking for romance Saw Barbara Ann, so I thought I'd take a chance on Barbara Ann Barbara Ann, Barbara Ann Take my hand Barbara Ann, Barbara Ann Take my hand You got me rockin' and a rollin' Rockin' and a reelin' Barbara Ann Ba Ba Ba Ba Barbara Ann Ba Ba Ba Barbara Ann Ba Ba Ba Barbara Ann Barbara Ann take my hand Barbara ann you got me rockin' and a rollin' rockin' and a reelin' Barbara Ann Ba-Ba-Ba-Barbara Ann Tried Peggy Sue tried Peggy Lou tried Mary Lou but I knew she wouldn't do Barbara Ann, Barbara Ann take my hand Barbara Ann take my hand you got me rockin' and a rollin' Rockin' and a reelin' Barbara Ann Ba Ba Ba Barbara Ann Ba Ba Ba Barbara Ann Ba Ba Ba Barbara Ann Barbara Ann take my hand Barbara Ann You got me rockin' and a rollin' Rockin' and a reelin' Barbara Ann Ba Ba Ba Barbara Ann Barbara Ann, Barbara Ann Barbara Ann, Barbara Ann Barbara Ann, Barbara Ann Barbara Ann\"\n",
    "unnecessary = [(',',''),('...More', ''), ('Lyrics...', ''), ('  ', ' '), (\"'\", '')]\n",
    "for old, new in unnecessary:\n",
    "    lyrics = lyrics.replace(old, new)\n",
    "#lyrics.replace(',', '')\n",
    "#lyrics.replace('...More', \"\")\n",
    "#lyrics.replace('Lyrics...', \"\")\n",
    "print(lyrics)\n",
    "lyrics_list = lyrics.split(' ')\n",
    "unique = set(lyrics_list)\n",
    "unique"
   ]
  },
  {
   "cell_type": "code",
   "execution_count": 31,
   "metadata": {},
   "outputs": [],
   "source": [
    "def word_count(word):\n",
    "    count = lyrics_list.count(word)\n",
    "    if count == 0:\n",
    "        return f\"Your word, {word}, doesn't appear in the lyrics\"\n",
    "    elif count == 1:\n",
    "        return f'Your word, {word}, appears in the lyrics just once'\n",
    "    else:\n",
    "        return f'Your word, {word}, appears in the lyrics {count} times'"
   ]
  },
  {
   "cell_type": "code",
   "execution_count": 32,
   "metadata": {},
   "outputs": [
    {
     "data": {
      "application/vnd.jupyter.widget-view+json": {
       "model_id": "1fe2de71c96e4b98bd5a890115df6134",
       "version_major": 2,
       "version_minor": 0
      },
      "text/plain": [
       "interactive(children=(Dropdown(description='word', options=('but', 'got', 'romance', 'Lou', 'Sue', 'rockin', '…"
      ]
     },
     "metadata": {},
     "output_type": "display_data"
    }
   ],
   "source": [
    "interact(word_count, word=unique);"
   ]
  },
  {
   "cell_type": "code",
   "execution_count": 33,
   "metadata": {},
   "outputs": [
    {
     "name": "stdout",
     "output_type": "stream",
     "text": [
      "['a', 'ba', 'ba', 'ba', 'ba', 'barbara', 'ann', 'ba', 'ba', 'ba', 'ba', 'barbara', 'ann', 'barbara', 'ann', 'take', 'my', 'hand', 'barbara', 'ann', 'you', 'got', 'me', 'rockin', 'and', 'a', 'rollin', 'rockin', 'and', 'a', 'reelin', 'barbara', 'ann', 'ba-ba-ba-barbara', 'ann', 'went', 'to', 'a', 'dance', 'looking', 'for', 'romance', 'saw', 'barbara', 'ann', 'so', 'i', 'thought', 'id', 'take', 'a', 'chance', 'on', 'barbara', 'ann', 'barbara', 'ann', 'barbara', 'ann', 'take', 'my', 'hand', 'barbara', 'ann', 'barbara', 'ann', 'take', 'my', 'hand', 'you', 'got', 'me', 'rockin', 'and', 'a', 'rollin', 'rockin', 'and', 'a', 'reelin', 'barbara', 'ann', 'ba', 'ba', 'ba', 'ba', 'barbara', 'ann', 'ba', 'ba', 'ba', 'barbara', 'ann', 'ba', 'ba', 'ba', 'barbara', 'ann', 'barbara', 'ann', 'take', 'my', 'hand', 'barbara', 'ann', 'you', 'got', 'me', 'rockin', 'and', 'a', 'rollin', 'rockin', 'and', 'a', 'reelin', 'barbara', 'ann', 'ba-ba-ba-barbara', 'ann', 'tried', 'peggy', 'sue', 'tried', 'peggy', 'lou', 'tried', 'mary', 'lou', 'but', 'i', 'knew', 'she', 'wouldnt', 'do', 'barbara', 'ann', 'barbara', 'ann', 'take', 'my', 'hand', 'barbara', 'ann', 'take', 'my', 'hand', 'you', 'got', 'me', 'rockin', 'and', 'a', 'rollin', 'rockin', 'and', 'a', 'reelin', 'barbara', 'ann', 'ba', 'ba', 'ba', 'barbara', 'ann', 'ba', 'ba', 'ba', 'barbara', 'ann', 'ba', 'ba', 'ba', 'barbara', 'ann', 'barbara', 'ann', 'take', 'my', 'hand', 'barbara', 'ann', 'you', 'got', 'me', 'rockin', 'and', 'a', 'rollin', 'rockin', 'and', 'a', 'reelin', 'barbara', 'ann', 'ba', 'ba', 'ba', 'barbara', 'ann', 'barbara', 'ann', 'barbara', 'ann', 'barbara', 'ann', 'barbara', 'ann', 'barbara', 'ann', 'barbara', 'ann', 'barbara', 'ann']\n",
      "{'lou', 'but', 'got', 'romance', 'rockin', 'so', 'on', 'dance', 'looking', 'to', 'you', 'me', 'reelin', 'id', 'peggy', 'thought', 'take', 'wouldnt', 'a', 'for', 'chance', 'hand', 'she', 'do', 'sue', 'my', 'i', 'mary', 'ba', 'ba-ba-ba-barbara', 'knew', 'went', 'saw', 'tried', 'rollin', 'and', 'ann', 'barbara'}\n"
     ]
    }
   ],
   "source": [
    "lyrics_list_lower = []\n",
    "for lyric in lyrics_list:\n",
    "    lyrics_list_lower.append(lyric.lower())\n",
    "print(lyrics_list_lower)\n",
    "unique_lower = set(lyrics_list_lower)\n",
    "print(unique_lower)"
   ]
  },
  {
   "cell_type": "code",
   "execution_count": 53,
   "metadata": {},
   "outputs": [],
   "source": [
    "def word_count_lower(word):\n",
    "    count = lyrics_list_lower.count(word)\n",
    "    if count == 0:\n",
    "        return f', and it does not appear in the cleaned lyrics.';\n",
    "    elif count == 1:\n",
    "        return f', and it appears in the cleaned lyrics just once.';\n",
    "    else:\n",
    "        return f', and it appears in the cleaned lyrics {count} times.';\n",
    "def count_compare(word):\n",
    "    return f\"{word_count(word)}{word_count_lower(word)}, but,{word_count(word.capitalize())}{word_count_lower(word.capitalize())}\"   \n",
    "    "
   ]
  },
  {
   "cell_type": "code",
   "execution_count": 54,
   "metadata": {},
   "outputs": [
    {
     "data": {
      "application/vnd.jupyter.widget-view+json": {
       "model_id": "18d3cafb78f4479c918e470cd3b38c57",
       "version_major": 2,
       "version_minor": 0
      },
      "text/plain": [
       "interactive(children=(Dropdown(description='word', options=('lou', 'but', 'got', 'romance', 'rockin', 'so', 'o…"
      ]
     },
     "metadata": {},
     "output_type": "display_data"
    }
   ],
   "source": [
    "interact(count_compare, word=(unique_lower));"
   ]
  },
  {
   "cell_type": "code",
   "execution_count": null,
   "metadata": {},
   "outputs": [],
   "source": []
  }
 ],
 "metadata": {
  "kernelspec": {
   "display_name": "Python 3",
   "language": "python",
   "name": "python3"
  },
  "language_info": {
   "codemirror_mode": {
    "name": "ipython",
    "version": 3
   },
   "file_extension": ".py",
   "mimetype": "text/x-python",
   "name": "python",
   "nbconvert_exporter": "python",
   "pygments_lexer": "ipython3",
   "version": "3.6.9"
  }
 },
 "nbformat": 4,
 "nbformat_minor": 4
}
