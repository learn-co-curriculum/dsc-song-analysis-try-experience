{
 "cells": [
  {
   "cell_type": "code",
   "execution_count": 1,
   "metadata": {},
   "outputs": [
    {
     "name": "stdout",
     "output_type": "stream",
     "text": [
      "A Ba Ba Ba Ba Barbara Ann Ba Ba Ba Ba Barbara Ann Barbara Ann Take my hand Barbara Ann You got me rockin and a rollin Rockin and a reelin Barbara Ann Ba Ba Ba Barbara Ann Went to a dance looking for romance Saw Barbara Ann so I thought Id take a chance on Barbara Ann Barbara Ann Barbara Ann Take my hand Barbara Ann Barbara Ann Take my hand You got me rockin and a rollin Rockin and a reelin Barbara Ann Ba Ba Ba Ba Barbara Ann Ba Ba Ba Barbara Ann Ba Ba Ba Barbara Ann Barbara Ann take my hand Barbara ann you got me rockin and a rollin rockin and a reelin Barbara Ann Ba-Ba-Ba-Barbara Ann Tried Peggy Sue tried Peggy Lou tried Mary Lou but I knew she wouldnt do Barbara Ann Barbara Ann take my hand Barbara Ann take my hand you got me rockin and a rollin Rockin and a reelin Barbara Ann Ba Ba Ba Barbara Ann Ba Ba Ba Barbara Ann Ba Ba Ba Barbara Ann Barbara Ann take my hand Barbara Ann You got me rockin and a rollin Rockin and a reelin Barbara Ann Ba Ba Ba Barbara Ann Barbara Ann Barbara Ann Barbara Ann Barbara Ann Barbara Ann Barbara Ann Barbara Ann\n"
     ]
    },
    {
     "data": {
      "text/plain": [
       "{'A',\n",
       " 'Ann',\n",
       " 'Ba',\n",
       " 'Ba-Ba-Ba-Barbara',\n",
       " 'Barbara',\n",
       " 'I',\n",
       " 'Id',\n",
       " 'Lou',\n",
       " 'Mary',\n",
       " 'Peggy',\n",
       " 'Rockin',\n",
       " 'Saw',\n",
       " 'Sue',\n",
       " 'Take',\n",
       " 'Tried',\n",
       " 'Went',\n",
       " 'You',\n",
       " 'a',\n",
       " 'and',\n",
       " 'ann',\n",
       " 'but',\n",
       " 'chance',\n",
       " 'dance',\n",
       " 'do',\n",
       " 'for',\n",
       " 'got',\n",
       " 'hand',\n",
       " 'knew',\n",
       " 'looking',\n",
       " 'me',\n",
       " 'my',\n",
       " 'on',\n",
       " 'reelin',\n",
       " 'rockin',\n",
       " 'rollin',\n",
       " 'romance',\n",
       " 'she',\n",
       " 'so',\n",
       " 'take',\n",
       " 'thought',\n",
       " 'to',\n",
       " 'tried',\n",
       " 'wouldnt',\n",
       " 'you'}"
      ]
     },
     "execution_count": 1,
     "metadata": {},
     "output_type": "execute_result"
    }
   ],
   "source": [
    "lyrics = \"A Ba Ba Ba Ba Barbara Ann Ba Ba Ba Ba Barbara Ann Barbara Ann Take my hand Barbara Ann You got me rockin' and a rollin' Rockin' and a reelin' Barbara Ann Ba Ba Ba Barbara Ann Went to a dance, looking for romance Saw Barbara Ann, so I thought I'd take a chance on Barbara Ann Barbara Ann, Barbara Ann Take my hand Barbara Ann, Barbara Ann Take my hand You got me rockin' and a rollin' Rockin' and a reelin' Barbara Ann Ba Ba Ba Ba Barbara Ann Ba Ba Ba Barbara Ann Ba Ba Ba Barbara Ann Barbara Ann take my hand Barbara ann you got me rockin' and a rollin' rockin' and a reelin' Barbara Ann Ba-Ba-Ba-Barbara Ann Tried Peggy Sue tried Peggy Lou tried Mary Lou but I knew she wouldn't do Barbara Ann, Barbara Ann take my hand Barbara Ann take my hand you got me rockin' and a rollin' Rockin' and a reelin' Barbara Ann Ba Ba Ba Barbara Ann Ba Ba Ba Barbara Ann Ba Ba Ba Barbara Ann Barbara Ann take my hand Barbara Ann You got me rockin' and a rollin' Rockin' and a reelin' Barbara Ann Ba Ba Ba Barbara Ann Barbara Ann, Barbara Ann Barbara Ann, Barbara Ann Barbara Ann, Barbara Ann Barbara Ann\"\n",
    "unnecessary = [(',',''),('...More', ''), ('Lyrics...', ''), ('  ', ' '), (\"'\", '')]\n",
    "for old, new in unnecessary:\n",
    "    lyrics = lyrics.replace(old, new)\n",
    "#lyrics.replace(',', '')\n",
    "#lyrics.replace('...More', \"\")\n",
    "#lyrics.replace('Lyrics...', \"\")\n",
    "print(lyrics)\n",
    "lyrics_list = lyrics.split(' ')\n",
    "unique = set(lyrics_list)\n",
    "unique"
   ]
  },
  {
   "cell_type": "code",
   "execution_count": 2,
   "metadata": {},
   "outputs": [
    {
     "name": "stdout",
     "output_type": "stream",
     "text": [
      "['a', 'ba', 'ba', 'ba', 'ba', 'barbara', 'ann', 'ba', 'ba', 'ba', 'ba', 'barbara', 'ann', 'barbara', 'ann', 'take', 'my', 'hand', 'barbara', 'ann', 'you', 'got', 'me', 'rockin', 'and', 'a', 'rollin', 'rockin', 'and', 'a', 'reelin', 'barbara', 'ann', 'ba', 'ba', 'ba', 'barbara', 'ann', 'went', 'to', 'a', 'dance', 'looking', 'for', 'romance', 'saw', 'barbara', 'ann', 'so', 'i', 'thought', 'id', 'take', 'a', 'chance', 'on', 'barbara', 'ann', 'barbara', 'ann', 'barbara', 'ann', 'take', 'my', 'hand', 'barbara', 'ann', 'barbara', 'ann', 'take', 'my', 'hand', 'you', 'got', 'me', 'rockin', 'and', 'a', 'rollin', 'rockin', 'and', 'a', 'reelin', 'barbara', 'ann', 'ba', 'ba', 'ba', 'ba', 'barbara', 'ann', 'ba', 'ba', 'ba', 'barbara', 'ann', 'ba', 'ba', 'ba', 'barbara', 'ann', 'barbara', 'ann', 'take', 'my', 'hand', 'barbara', 'ann', 'you', 'got', 'me', 'rockin', 'and', 'a', 'rollin', 'rockin', 'and', 'a', 'reelin', 'barbara', 'ann', 'ba-ba-ba-barbara', 'ann', 'tried', 'peggy', 'sue', 'tried', 'peggy', 'lou', 'tried', 'mary', 'lou', 'but', 'i', 'knew', 'she', 'wouldnt', 'do', 'barbara', 'ann', 'barbara', 'ann', 'take', 'my', 'hand', 'barbara', 'ann', 'take', 'my', 'hand', 'you', 'got', 'me', 'rockin', 'and', 'a', 'rollin', 'rockin', 'and', 'a', 'reelin', 'barbara', 'ann', 'ba', 'ba', 'ba', 'barbara', 'ann', 'ba', 'ba', 'ba', 'barbara', 'ann', 'ba', 'ba', 'ba', 'barbara', 'ann', 'barbara', 'ann', 'take', 'my', 'hand', 'barbara', 'ann', 'you', 'got', 'me', 'rockin', 'and', 'a', 'rollin', 'rockin', 'and', 'a', 'reelin', 'barbara', 'ann', 'ba', 'ba', 'ba', 'barbara', 'ann', 'barbara', 'ann', 'barbara', 'ann', 'barbara', 'ann', 'barbara', 'ann', 'barbara', 'ann', 'barbara', 'ann', 'barbara', 'ann']\n"
     ]
    }
   ],
   "source": [
    "lyrics_list_lower = []\n",
    "for lyric in lyrics_list:\n",
    "    lyrics_list_lower.append(lyric.lower())\n",
    "    \n",
    "print(lyrics_list_lower)"
   ]
  },
  {
   "cell_type": "code",
   "execution_count": 3,
   "metadata": {},
   "outputs": [
    {
     "name": "stdout",
     "output_type": "stream",
     "text": [
      "{'got', 'id', 'chance', 'me', 'take', 'do', 'to', 'you', 'ann', 'my', 'went', 'thought', 'hand', 'rollin', 'peggy', 'dance', 'she', 'barbara', 'reelin', 'saw', 'so', 'a', 'i', 'and', 'lou', 'on', 'rockin', 'mary', 'tried', 'romance', 'looking', 'but', 'ba-ba-ba-barbara', 'knew', 'sue', 'for', 'ba', 'wouldnt'}\n"
     ]
    }
   ],
   "source": [
    "unique_lower = set(lyrics_list_lower)\n",
    "print(unique_lower)"
   ]
  },
  {
   "cell_type": "code",
   "execution_count": null,
   "metadata": {},
   "outputs": [],
   "source": []
  }
 ],
 "metadata": {
  "kernelspec": {
   "display_name": "Python 3",
   "language": "python",
   "name": "python3"
  },
  "language_info": {
   "codemirror_mode": {
    "name": "ipython",
    "version": 3
   },
   "file_extension": ".py",
   "mimetype": "text/x-python",
   "name": "python",
   "nbconvert_exporter": "python",
   "pygments_lexer": "ipython3",
   "version": "3.6.9"
  }
 },
 "nbformat": 4,
 "nbformat_minor": 2
}
